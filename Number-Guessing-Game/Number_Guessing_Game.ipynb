{
 "cells": [
  {
   "cell_type": "markdown",
   "metadata": {},
   "source": [
    "## <center><b>Number guessing game in Python</b></center>"
   ]
  },
  {
   "cell_type": "code",
   "execution_count": null,
   "metadata": {},
   "outputs": [],
   "source": [
    "import random\n",
    "\n",
    "print(\"Welcome to the Number Guessing Game ... , You'll get only 7 chances to guess number , Let's Start the Game :\")\n",
    "# User Input for lower and upper bound \n",
    "lower_no = int(input(\"Enter Lower Bound :\"))\n",
    "upper_no = int(input(\"Enter Upper Bound :\"))\n",
    "\n",
    "# Generate Random Number \n",
    "rand_no = random.randrange(lower_no , upper_no)\n",
    "\n",
    "chances = 7 # Number of Chances\n",
    "guess_counter = 0 # Number of Guess Counters\n",
    "find_it = False\n",
    "\n",
    "while guess_counter < chances :\n",
    "    guess_counter += 1 # Count the User Guess Input\n",
    "    \n",
    "    my_guess = int(input(\"Guess a Number :\"))\n",
    "\n",
    "    if my_guess < lower_no and my_guess < rand_no :\n",
    "        print('Number is Out of Lower Bound !!!')\n",
    "\n",
    "    elif my_guess < rand_no :\n",
    "        print(\"You Guessed too Small..!!!\")\n",
    "    \n",
    "    elif my_guess > upper_no and my_guess > rand_no :\n",
    "            print(\"Number is Out of Upper Bound !!!\")\n",
    "\n",
    "    elif my_guess > rand_no :\n",
    "        print(\"You Guessed too High..!!!\")\n",
    "        \n",
    "    elif my_guess == rand_no :\n",
    "        print(f\"You Guess the right Number {rand_no} in the {guess_counter} attempt..!!!\")\n",
    "        find_it = True\n",
    "        break\n",
    "\n",
    "if find_it == False :\n",
    "     print(f\"Oop's Sorry, The Number is {rand_no} Better luck next time..!!\")\n"
   ]
  }
 ],
 "metadata": {
  "kernelspec": {
   "display_name": "Python 3",
   "language": "python",
   "name": "python3"
  },
  "language_info": {
   "codemirror_mode": {
    "name": "ipython",
    "version": 3
   },
   "file_extension": ".py",
   "mimetype": "text/x-python",
   "name": "python",
   "nbconvert_exporter": "python",
   "pygments_lexer": "ipython3",
   "version": "3.12.6"
  }
 },
 "nbformat": 4,
 "nbformat_minor": 2
}
