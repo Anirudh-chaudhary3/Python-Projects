{
 "cells": [
  {
   "cell_type": "markdown",
   "metadata": {},
   "source": [
    "## <center><b>CountDown Timer</b></center>"
   ]
  },
  {
   "cell_type": "code",
   "execution_count": null,
   "metadata": {},
   "outputs": [],
   "source": [
    "# Import the time module\n",
    "import time\n",
    "\n",
    "# Create countdown Function\n",
    "def countdown(t) :\n",
    "\n",
    "    while t :\n",
    "        min , sec = divmod(t , 60)\n",
    "        timer = '{:02d}:{:02d}'.format(min,sec)\n",
    "        print(timer , '\\r')\n",
    "        time.sleep(1)\n",
    "        t -= 1\n",
    "\n",
    "    print('Fire in the Hole')\n",
    "\n",
    "t = int(input(\"Enter the time in seconds : \"))\n",
    "\n",
    "# Calling Function\n",
    "\n",
    "countdown(t)"
   ]
  }
 ],
 "metadata": {
  "kernelspec": {
   "display_name": "Python 3",
   "language": "python",
   "name": "python3"
  },
  "language_info": {
   "codemirror_mode": {
    "name": "ipython",
    "version": 3
   },
   "file_extension": ".py",
   "mimetype": "text/x-python",
   "name": "python",
   "nbconvert_exporter": "python",
   "pygments_lexer": "ipython3",
   "version": "3.12.6"
  }
 },
 "nbformat": 4,
 "nbformat_minor": 2
}
